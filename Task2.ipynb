{
 "cells": [
  {
   "cell_type": "markdown",
   "id": "22181f82",
   "metadata": {},
   "source": [
    "# STOCK PREDICTION"
   ]
  },
  {
   "cell_type": "markdown",
   "id": "8f24b6a5",
   "metadata": {},
   "source": [
    "Take stock price of any company you want\n",
    "and predicts its price by using LSTM. Use only\n",
    "Jupyter notebook code."
   ]
  },
  {
   "cell_type": "markdown",
   "id": "81e838ee",
   "metadata": {},
   "source": [
    "#### Import necessary libraries"
   ]
  },
  {
   "cell_type": "code",
   "execution_count": null,
   "id": "c23b7ef0",
   "metadata": {},
   "outputs": [],
   "source": [
    "import pandas as pd\n",
    "import numpy as np\n",
    "import matplotlib.pyplot as plt\n",
    "import yfinance as yf\n",
    "from sklearn.preprocessing import MinMaxScaler\n",
    "from tensorflow.keras.models import Sequential\n",
    "from tensorflow.keras.layers import Dense, LSTM"
   ]
  },
  {
   "cell_type": "markdown",
   "id": "8ab0989d",
   "metadata": {},
   "source": [
    "#### Fetch stock data ( Apple Inc. - AAPL)"
   ]
  },
  {
   "cell_type": "code",
   "execution_count": null,
   "id": "ee753af1",
   "metadata": {},
   "outputs": [],
   "source": [
    "stock_symbol = \"AAPL\"\n",
    "start_date = \"2023-01-01\"\n",
    "end_date = \"2024-12-20\"\n",
    "stock_data = yf.download(stock_symbol, start=start_date, end=end_date)"
   ]
  },
  {
   "cell_type": "markdown",
   "id": "2835d9a2",
   "metadata": {},
   "source": [
    "#### Extract the closing price"
   ]
  },
  {
   "cell_type": "code",
   "execution_count": 3,
   "id": "d6f2be8e",
   "metadata": {},
   "outputs": [],
   "source": [
    "closing_prices = stock_data[\"Close\"].values.reshape(-1, 1)\n"
   ]
  },
  {
   "cell_type": "markdown",
   "id": "386d8e4d",
   "metadata": {},
   "source": [
    "#### Normalize the data"
   ]
  },
  {
   "cell_type": "code",
   "execution_count": 4,
   "id": "76a0c0ea",
   "metadata": {},
   "outputs": [],
   "source": [
    "scaler = MinMaxScaler()\n",
    "scaled_prices = scaler.fit_transform(closing_prices)\n"
   ]
  },
  {
   "cell_type": "markdown",
   "id": "c07d5243",
   "metadata": {},
   "source": [
    "#### Create sequences for LSTM training"
   ]
  },
  {
   "cell_type": "code",
   "execution_count": 5,
   "id": "f22adc10",
   "metadata": {},
   "outputs": [],
   "source": [
    "sequence_length = 30  # Number of days to look back\n",
    "X, y = [], []\n",
    "for i in range(len(scaled_prices) - sequence_length):\n",
    "    X.append(scaled_prices[i : i + sequence_length])\n",
    "    y.append(scaled_prices[i + sequence_length])\n",
    "\n",
    "X, y = np.array(X), np.array(y)\n",
    "\n",
    "# Split data into train and test sets\n",
    "train_size = int(0.8 * len(X))\n",
    "X_train, X_test = X[:train_size], X[train_size:]\n",
    "y_train, y_test = y[:train_size], y[train_size:]\n"
   ]
  },
  {
   "cell_type": "markdown",
   "id": "e9710526",
   "metadata": {},
   "source": [
    "#### Build the LSTM model"
   ]
  },
  {
   "cell_type": "code",
   "execution_count": 6,
   "id": "f4c82186",
   "metadata": {},
   "outputs": [
    {
     "ename": "NameError",
     "evalue": "name 'Sequential' is not defined",
     "output_type": "error",
     "traceback": [
      "\u001b[1;31m---------------------------------------------------------------------------\u001b[0m",
      "\u001b[1;31mNameError\u001b[0m                                 Traceback (most recent call last)",
      "Cell \u001b[1;32mIn[6], line 1\u001b[0m\n\u001b[1;32m----> 1\u001b[0m model \u001b[38;5;241m=\u001b[39m Sequential()\n\u001b[0;32m      2\u001b[0m model\u001b[38;5;241m.\u001b[39madd(LSTM(\u001b[38;5;241m50\u001b[39m, activation\u001b[38;5;241m=\u001b[39m\u001b[38;5;124m\"\u001b[39m\u001b[38;5;124mrelu\u001b[39m\u001b[38;5;124m\"\u001b[39m, input_shape\u001b[38;5;241m=\u001b[39m(sequence_length, \u001b[38;5;241m1\u001b[39m)))\n\u001b[0;32m      3\u001b[0m model\u001b[38;5;241m.\u001b[39madd(Dense(\u001b[38;5;241m1\u001b[39m))\n",
      "\u001b[1;31mNameError\u001b[0m: name 'Sequential' is not defined"
     ]
    }
   ],
   "source": [
    "model = Sequential()\n",
    "model.add(LSTM(50, activation=\"relu\", input_shape=(sequence_length, 1)))\n",
    "model.add(Dense(1))\n",
    "model.compile(optimizer=\"adam\", loss=\"mean_squared_error\")"
   ]
  },
  {
   "cell_type": "markdown",
   "id": "6d595350",
   "metadata": {},
   "source": [
    "#### Train the model"
   ]
  },
  {
   "cell_type": "code",
   "execution_count": null,
   "id": "4387b60b",
   "metadata": {},
   "outputs": [],
   "source": [
    "model.fit(X_train, y_train, epochs=50, batch_size=32, validation_data=(X_test, y_test))"
   ]
  },
  {
   "cell_type": "markdown",
   "id": "c3e00b67",
   "metadata": {},
   "source": [
    " #### Make predictions"
   ]
  },
  {
   "cell_type": "code",
   "execution_count": null,
   "id": "1da9df5a",
   "metadata": {},
   "outputs": [],
   "source": [
    "predicted_prices = model.predict(X_test)\n",
    "predicted_prices = scaler.inverse_transform(predicted_prices)\n"
   ]
  },
  {
   "cell_type": "markdown",
   "id": "83638822",
   "metadata": {},
   "source": [
    "#### Plot actual vs. predicted prices"
   ]
  },
  {
   "cell_type": "code",
   "execution_count": null,
   "id": "63bbdf37",
   "metadata": {},
   "outputs": [],
   "source": [
    "plt.figure(figsize=(12, 6))\n",
    "plt.plot(stock_data.index[train_size + sequence_length :], y_test, label=\"Actual Prices\")\n",
    "plt.plot(stock_data.index[train_size + sequence_length :], predicted_prices, label=\"Predicted Prices\")\n",
    "plt.xlabel(\"Date\")\n",
    "plt.ylabel(\"Stock Price\")\n",
    "plt.title(f\"{stock_symbol} Stock Price Prediction\")\n",
    "plt.legend()\n",
    "plt.show()"
   ]
  },
  {
   "cell_type": "code",
   "execution_count": null,
   "id": "843ea038",
   "metadata": {},
   "outputs": [],
   "source": []
  }
 ],
 "metadata": {
  "kernelspec": {
   "display_name": "Python 3 (ipykernel)",
   "language": "python",
   "name": "python3"
  },
  "language_info": {
   "codemirror_mode": {
    "name": "ipython",
    "version": 3
   },
   "file_extension": ".py",
   "mimetype": "text/x-python",
   "name": "python",
   "nbconvert_exporter": "python",
   "pygments_lexer": "ipython3",
   "version": "3.11.4"
  }
 },
 "nbformat": 4,
 "nbformat_minor": 5
}
